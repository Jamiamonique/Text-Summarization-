{
 "cells": [
  {
   "cell_type": "code",
   "execution_count": 36,
   "metadata": {
    "colab": {
     "base_uri": "https://localhost:8080/"
    },
    "id": "qigjT4ZlhKb2",
    "outputId": "193cb813-1d16-481a-d0de-7f9f778ee6f2"
   },
   "outputs": [
    {
     "name": "stdout",
     "output_type": "stream",
     "text": [
      "Original Article:\n",
      "A drunk teenage boy had to be rescued by security after jumping into a lions' enclosure at a zoo in western India. Rahul Kumar, 17, clambered over the enclosure fence at the Kamla Nehru Zoological Park in Ahmedabad, and began running towards the animals, shouting he would 'kill them'. Mr Kumar explained afterwards that he was drunk and 'thought I'd stand a good chance' against the predators. Next level drunk: Intoxicated Rahul Kumar, 17, climbed into the lions' enclosure at a zoo in Ahmedabad and began running towards the animals shouting 'Today I kill a lion!' Mr Kumar had been sitting near the enclosure when he suddenly made a dash for the lions, surprising zoo security. The intoxicated teenager ran towards the lions, shouting: 'Today I kill a lion or a lion kills me!' A zoo spokesman said: 'Guards had earlier spotted him close to the enclosure but had no idea he was planing to enter it. 'Fortunately, there are eight moats to cross before getting to where the lions usually are and he fell into the second one, allowing guards to catch up with him and take him out. 'We then handed him over to the police.' Brave fool: Fortunately, Mr Kumar  fell into a moat as he ran towards the lions and could be rescued by zoo security staff before reaching the animals (stock image) Kumar later explained: 'I don't really know why I did it. 'I was drunk and thought I'd stand a good chance.' A police spokesman said: 'He has been cautioned and will be sent for psychiatric evaluation. 'Fortunately for him, the lions were asleep and the zoo guards acted quickly enough to prevent a tragedy similar to that in Delhi.' Last year a 20-year-old man was mauled to death by a tiger in the Indian capital after climbing into its enclosure at the city zoo.\n",
      "\n",
      "Generated Summary:\n",
      "Rahul Kumar, 17, climbed into lions' enclosure at a zoo in Ahmedabad. He ran towards the animals shouting: 'Today I kill a lion or a lion kills me!' Fortunately, Mr Kumar fell into a moat and was rescued by zoo security. He has been cautioned and will be sent for psychiatric evaluation.\n",
      "\n",
      "Highlight:\n",
      "Drunk teenage boy climbed into lion enclosure at zoo in west India .\n",
      "Rahul Kumar, 17, ran towards animals shouting 'Today I kill a lion!'\n",
      "Fortunately he fell into a moat before reaching lions and was rescued .\n"
     ]
    },
    {
     "name": "stderr",
     "output_type": "stream",
     "text": [
      "Some weights of RobertaModel were not initialized from the model checkpoint at roberta-large and are newly initialized: ['roberta.pooler.dense.bias', 'roberta.pooler.dense.weight']\n",
      "You should probably TRAIN this model on a down-stream task to be able to use it for predictions and inference.\n"
     ]
    },
    {
     "name": "stdout",
     "output_type": "stream",
     "text": [
      "\n",
      "BERTScore - Precision: 0.9115, Recall: 0.9263, F1: 0.9189\n"
     ]
    }
   ],
   "source": [
    "import pandas as pd\n",
    "from transformers import BartForConditionalGeneration, BartTokenizer\n",
    "from rouge_score import rouge_scorer\n",
    "from bert_score import score\n",
    "\n",
    "model_name = \"facebook/bart-large-cnn\" #facebook/bart-large-xsum or facebook/bart-large-cnn\n",
    "model = BartForConditionalGeneration.from_pretrained(model_name)\n",
    "tokenizer = BartTokenizer.from_pretrained(model_name)\n",
    "\n",
    "def summarize_article(article: str) -> str:\n",
    "    inputs = tokenizer([article], max_length=1024, return_tensors=\"pt\", truncation=True)\n",
    "\n",
    "    summary_ids = model.generate(\n",
    "        inputs[\"input_ids\"],\n",
    "        max_length=500,\n",
    "        min_length=50,\n",
    "        num_beams=4,\n",
    "        early_stopping=True,\n",
    "        do_sample=True,\n",
    "    )\n",
    "\n",
    "    summary = tokenizer.decode(summary_ids[0], skip_special_tokens=True)\n",
    "    return summary\n",
    "def evaluate_bertscore(summary: str, reference: str):\n",
    "    P, R, F1 = score([summary], [reference], lang=\"en\")\n",
    "    return P.mean().item(), R.mean().item(), F1.mean().item()\n",
    "\n",
    "def evaluate_rouge6(summary: str, reference: str)-> float:\n",
    "  scorer = rouge_scorer.RougeScorer([\"rouge6\"])\n",
    "  scores= scorer.score(reference, summary)\n",
    "  return scores[\"rouge6\"].fmeasure\n",
    "\n",
    "df = pd.read_csv('test.csv')\n",
    "\n",
    "row = df.iloc[1]\n",
    "article = row['article']\n",
    "highlight = row['highlights']\n",
    "\n",
    "summary = summarize_article(article)\n",
    "\n",
    "print(\"Original Article:\")\n",
    "print(article)\n",
    "print(\"\\nGenerated Summary:\")\n",
    "print(summary)\n",
    "\n",
    "precision, recall, f1 = evaluate_bertscore(summary, highlight)\n",
    "print(f\"\\nBERTScore - Precision: {precision:.4f}, Recall: {recall:.4f}, F1: {f1:.4f}\")\n",
    "\n",
    "\n"
   ]
  },
  {
   "cell_type": "code",
   "execution_count": 37,
   "metadata": {
    "colab": {
     "base_uri": "https://localhost:8080/"
    },
    "id": "WYrU5fdg9175",
    "outputId": "5c4c5b0b-f444-4fa7-b2e0-12748f1ae9d1"
   },
   "outputs": [
    {
     "name": "stdout",
     "output_type": "stream",
     "text": [
      "Original Article:\n",
      "A drunk teenage boy had to be rescued by security after jumping into a lions' enclosure at a zoo in western India. Rahul Kumar, 17, clambered over the enclosure fence at the Kamla Nehru Zoological Park in Ahmedabad, and began running towards the animals, shouting he would 'kill them'. Mr Kumar explained afterwards that he was drunk and 'thought I'd stand a good chance' against the predators. Next level drunk: Intoxicated Rahul Kumar, 17, climbed into the lions' enclosure at a zoo in Ahmedabad and began running towards the animals shouting 'Today I kill a lion!' Mr Kumar had been sitting near the enclosure when he suddenly made a dash for the lions, surprising zoo security. The intoxicated teenager ran towards the lions, shouting: 'Today I kill a lion or a lion kills me!' A zoo spokesman said: 'Guards had earlier spotted him close to the enclosure but had no idea he was planing to enter it. 'Fortunately, there are eight moats to cross before getting to where the lions usually are and he fell into the second one, allowing guards to catch up with him and take him out. 'We then handed him over to the police.' Brave fool: Fortunately, Mr Kumar  fell into a moat as he ran towards the lions and could be rescued by zoo security staff before reaching the animals (stock image) Kumar later explained: 'I don't really know why I did it. 'I was drunk and thought I'd stand a good chance.' A police spokesman said: 'He has been cautioned and will be sent for psychiatric evaluation. 'Fortunately for him, the lions were asleep and the zoo guards acted quickly enough to prevent a tragedy similar to that in Delhi.' Last year a 20-year-old man was mauled to death by a tiger in the Indian capital after climbing into its enclosure at the city zoo.\n",
      "\n",
      "Generated Summary:\n",
      "A young Indian man has been cautioned and sent for psychiatric evaluation after climbing into a lion enclosure at a zoo and trying to kill the animals - while they were asleep. the BBC has learned from a zoo spokesman in Ahmedabad, India, that the animals were not injured.\n",
      "\n",
      "Highlight:\n",
      "Drunk teenage boy climbed into lion enclosure at zoo in west India .\n",
      "Rahul Kumar, 17, ran towards animals shouting 'Today I kill a lion!'\n",
      "Fortunately he fell into a moat before reaching lions and was rescued .\n"
     ]
    },
    {
     "name": "stderr",
     "output_type": "stream",
     "text": [
      "Some weights of RobertaModel were not initialized from the model checkpoint at roberta-large and are newly initialized: ['roberta.pooler.dense.bias', 'roberta.pooler.dense.weight']\n",
      "You should probably TRAIN this model on a down-stream task to be able to use it for predictions and inference.\n"
     ]
    },
    {
     "name": "stdout",
     "output_type": "stream",
     "text": [
      "\n",
      "BERTScore - Precision: 0.8696, Recall: 0.8660, F1: 0.8678\n"
     ]
    }
   ],
   "source": [
    "import pandas as pd\n",
    "from transformers import BartForConditionalGeneration, BartTokenizer\n",
    "from rouge_score import rouge_scorer\n",
    "from bert_score import score\n",
    "\n",
    "model_name = \"facebook/bart-large-xsum\" #facebook/bart-large-xsum or facebook/bart-large-cnn\n",
    "model = BartForConditionalGeneration.from_pretrained(model_name)\n",
    "tokenizer = BartTokenizer.from_pretrained(model_name)\n",
    "\n",
    "def summarize_article(article: str) -> str:\n",
    "    inputs = tokenizer([article], max_length=1024, return_tensors=\"pt\", truncation=True)\n",
    "\n",
    "    summary_ids = model.generate(\n",
    "        inputs[\"input_ids\"],\n",
    "        max_length=500,\n",
    "        min_length=50,\n",
    "        num_beams=4,\n",
    "        early_stopping=True,\n",
    "        do_sample=True,\n",
    "    )\n",
    "\n",
    "    summary = tokenizer.decode(summary_ids[0], skip_special_tokens=True)\n",
    "    return summary\n",
    "def evaluate_bertscore(summary: str, reference: str):\n",
    "    P, R, F1 = score([summary], [reference], lang=\"en\")\n",
    "    return P.mean().item(), R.mean().item(), F1.mean().item()\n",
    "\n",
    "def evaluate_rouge6(summary: str, reference: str)-> float:\n",
    "  scorer = rouge_scorer.RougeScorer([\"rouge6\"])\n",
    "  scores= scorer.score(reference, summary)\n",
    "  return scores[\"rouge6\"].fmeasure\n",
    "\n",
    "df = pd.read_csv('test.csv')\n",
    "\n",
    "row = df.iloc[1]\n",
    "article = row['article']\n",
    "highlight = row['highlights']\n",
    "\n",
    "summary = summarize_article(article)\n",
    "\n",
    "print(\"Original Article:\")\n",
    "print(article)\n",
    "print(\"\\nGenerated Summary:\")\n",
    "print(summary)\n",
    "\n",
    "precision, recall, f1 = evaluate_bertscore(summary, highlight)\n",
    "print(f\"\\nBERTScore - Precision: {precision:.4f}, Recall: {recall:.4f}, F1: {f1:.4f}\")\n"
   ]
  }
 ],
 "metadata": {
  "colab": {
   "provenance": []
  },
  "kernelspec": {
   "display_name": "Python 3",
   "name": "python3"
  },
  "language_info": {
   "codemirror_mode": {
    "name": "ipython",
    "version": 3
   },
   "file_extension": ".py",
   "mimetype": "text/x-python",
   "name": "python",
   "nbconvert_exporter": "python",
   "pygments_lexer": "ipython3",
   "version": "3.12.2"
  }
 },
 "nbformat": 4,
 "nbformat_minor": 0
}
